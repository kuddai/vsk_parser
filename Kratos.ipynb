{
 "cells": [
  {
   "cell_type": "markdown",
   "metadata": {
    "collapsed": true
   },
   "source": [
    "# Test Keras"
   ]
  },
  {
   "cell_type": "code",
   "execution_count": 2,
   "metadata": {},
   "outputs": [],
   "source": [
    "%load_ext autoreload\n",
    "%autoreload 2\n",
    "%reload_ext autoreload"
   ]
  },
  {
   "cell_type": "code",
   "execution_count": 9,
   "metadata": {},
   "outputs": [],
   "source": [
    "%matplotlib inline\n",
    "import matplotlib.pylab as pylab\n",
    "pylab.rcParams['figure.figsize'] = 10, 7.5"
   ]
  },
  {
   "cell_type": "code",
   "execution_count": 4,
   "metadata": {},
   "outputs": [
    {
     "name": "stderr",
     "output_type": "stream",
     "text": [
      "Using Theano backend.\n"
     ]
    }
   ],
   "source": [
    "import cPickle\n",
    "import numpy as np\n",
    "import matplotlib.pyplot as plt\n",
    "\n",
    "from keras.models import Sequential\n",
    "from keras.layers.core import Dense, Activation\n",
    "from keras.optimizers import SGD, Adam\n",
    "\n",
    "from sklearn.metrics import mean_squared_error"
   ]
  },
  {
   "cell_type": "code",
   "execution_count": 11,
   "metadata": {},
   "outputs": [
    {
     "name": "stdout",
     "output_type": "stream",
     "text": [
      "done\n"
     ]
    }
   ],
   "source": [
    "tau=2*np.pi\n",
    "\n",
    "#  Generating data\n",
    "## Generate X by uniformly sampling the interval [0,tau) 500 times\n",
    "## Generate targets Y by 3 * sin(x) + 1 + e for error e\n",
    "## error e defined by e ~ N(0,0.5) (drawn from normal with mean 0, std deviation 0.5\n",
    "\n",
    "np.random.seed(29)\n",
    "N = 1000\n",
    "X = np.random.random((N,1))*tau\n",
    "Y = np.sin(X)*3+1+np.random.normal(0,0.5,(N,1))\n",
    "\n",
    "#plt.show()\n",
    "\n",
    "#  Splitting Data\n",
    "I = np.arange(N)\n",
    "np.random.shuffle(I)\n",
    "n = 800\n",
    "\n",
    "## Training sets\n",
    "xtr = X[I][:n]\n",
    "ttr = Y[I][:n]\n",
    "## Testing sets\n",
    "xte = X[I][n:]\n",
    "tte = Y[I][n:]\n",
    "\n",
    "# Multilayer Perceptron\n",
    "model = Sequential()    # Feedforward\n",
    "model.add(Dense(100, input_dim=1))\n",
    "model.add(Activation('tanh'))\n",
    "model.add(Dense(100))\n",
    "model.add(Activation('tanh'))\n",
    "model.add(Dense(1))\n",
    "model.compile('adam', 'mse')\n",
    "\n",
    "#save data for keras_learner.py (to see verbose output, as it is not possible on jupyter due to the lock bug)\n",
    "cPickle.dump((xtr, ttr, model), open(\"./Learning/tmp/cur_learning_model.pkl\", \"w\"))\n",
    "print \"done\""
   ]
  },
  {
   "cell_type": "code",
   "execution_count": 12,
   "metadata": {},
   "outputs": [
    {
     "name": "stdout",
     "output_type": "stream",
     "text": [
      "['loss', 'val_loss']\n250\n"
     ]
    }
   ],
   "source": [
    "hist, model = cPickle.load(open(\"./Learning/tmp/cur_trained_model.pkl\"))\n",
    "print hist.history.keys()\n",
    "print len(hist.history[\"val_loss\"])"
   ]
  },
  {
   "cell_type": "code",
   "execution_count": 13,
   "metadata": {},
   "outputs": [
    {
     "data": {
      "image/png": "[encoded data removed]",
      "text/plain": [
       "<matplotlib.figure.Figure at 0xaab5748>"
      ]
     },
     "metadata": {},
     "output_type": "display_data"
    },
    {
     "name": "stdout",
     "output_type": "stream",
     "text": [
      "('error:', 0.26296985030007242)\n"
     ]
    }
   ],
   "source": [
    "val_los = hist.history[\"val_loss\"]\n",
    "fig = plt.plot(range(1, len(val_los) + 1), val_los, 'r.-')\n",
    "plt.xlabel(\"Epoches\")\n",
    "plt.ylabel(\"Validation Error\")\n",
    "plt.show()\n",
    "\n",
    "pred = model.predict(xte)\n",
    "print(\"error:\", mean_squared_error(tte, pred))"
   ]
  },
  {
   "cell_type": "code",
   "execution_count": 24,
   "metadata": {},
   "outputs": [
    {
     "name": "stdout",
     "output_type": "stream",
     "text": [
      "[array([[-1.39355385, -0.79063207]], dtype=float32), array([ 0.96878815,  1.86432481], dtype=float32), array([[-0.61187458,  1.30413711, -0.30249473],\n       [ 1.65686154, -0.53619814,  1.35597134]], dtype=float32), array([ 0.19360791,  0.47815716,  0.39630628], dtype=float32), array([[ 1.86216724],\n       [-1.7123214 ],\n       [ 1.0321703 ]], dtype=float32), array([ 0.14452493], dtype=float32)]\n6\n[[-0.61187458  1.30413711 -0.30249473]\n [ 1.65686154 -0.53619814  1.35597134]]\n(2L, 3L)\n(3L,)\n"
     ]
    }
   ],
   "source": [
    "print model.get_weights()\n",
    "print len(model.get_weights())\n",
    "print model.get_weights()[2]\n",
    "print model.get_weights()[2].shape\n",
    "print model.get_weights()[3].shape\n",
    "# so layers must works as np.dot(input * weights) + bias, first weights, bias"
   ]
  },
  {
   "cell_type": "code",
   "execution_count": 30,
   "metadata": {},
   "outputs": [
    {
     "name": "stdout",
     "output_type": "stream",
     "text": [
      "['loss', 'val_loss']\n"
     ]
    }
   ],
   "source": [
    "print hist.history.keys()"
   ]
  },
  {
   "cell_type": "code",
   "execution_count": 33,
   "metadata": {},
   "outputs": [
    {
     "name": "stdout",
     "output_type": "stream",
     "text": [
      "250\n"
     ]
    }
   ],
   "source": [
    "print len(hist.history[\"val_loss\"])"
   ]
  },
  {
   "cell_type": "code",
   "execution_count": null,
   "metadata": {},
   "outputs": [],
   "source": [
    ""
   ]
  }
 ],
 "metadata": {
  "kernelspec": {
   "display_name": "Python 2",
   "language": "python",
   "name": "python2"
  },
  "language_info": {
   "codemirror_mode": {
    "name": "ipython",
    "version": 2.0
   },
   "file_extension": ".py",
   "mimetype": "text/x-python",
   "name": "python",
   "nbconvert_exporter": "python",
   "pygments_lexer": "ipython2",
   "version": "2.7.6"
  }
 },
 "nbformat": 4,
 "nbformat_minor": 0
}