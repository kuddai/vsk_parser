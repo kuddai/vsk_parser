{
 "cells": [
  {
   "cell_type": "markdown",
   "metadata": {
    "collapsed": true
   },
   "source": [
    "# Test Keras"
   ]
  },
  {
   "cell_type": "code",
   "execution_count": 68,
   "metadata": {},
   "outputs": [
    {
     "name": "stdout",
     "output_type": "stream",
     "text": [
      "The autoreload extension is already loaded. To reload it, use:\n  %reload_ext autoreload\n"
     ]
    }
   ],
   "source": [
    "%load_ext autoreload\n",
    "%autoreload 2\n",
    "%reload_ext autoreload"
   ]
  },
  {
   "cell_type": "code",
   "execution_count": 36,
   "metadata": {},
   "outputs": [],
   "source": [
    "%matplotlib inline\n",
    "import matplotlib.pylab as pylab\n",
    "pylab.rcParams['figure.figsize'] = 10, 7.5"
   ]
  },
  {
   "cell_type": "code",
   "execution_count": 74,
   "metadata": {},
   "outputs": [],
   "source": [
    "import cPickle\n",
    "import numpy as np\n",
    "import matplotlib.pyplot as plt\n",
    "\n",
    "from keras.models import Sequential\n",
    "from keras.layers.core import Dense, Activation\n",
    "from keras.optimizers import SGD, Adam\n",
    "\n",
    "from sklearn.metrics import mean_squared_error\n",
    "import Learning.keras_util as ku"
   ]
  },
  {
   "cell_type": "code",
   "execution_count": 64,
   "metadata": {},
   "outputs": [
    {
     "name": "stdout",
     "output_type": "stream",
     "text": [
      "saving cos_model\ndone\n"
     ]
    }
   ],
   "source": [
    "tau=2*np.pi\n",
    "\n",
    "#  Generating data\n",
    "## Generate X by uniformly sampling the interval [0,tau) 500 times\n",
    "## Generate targets Y by 3 * sin(x) + 1 + e for error e\n",
    "## error e defined by e ~ N(0,0.5) (drawn from normal with mean 0, std deviation 0.5\n",
    "\n",
    "np.random.seed(29)\n",
    "N = 1000\n",
    "X = np.random.random((N,1))*tau\n",
    "Y = np.sin(X)*3+1+np.random.normal(0,0.5,(N,1))\n",
    "\n",
    "#plt.show()\n",
    "\n",
    "#  Splitting Data\n",
    "I = np.arange(N)\n",
    "np.random.shuffle(I)\n",
    "n = 800\n",
    "\n",
    "## Training sets\n",
    "xtr = X[I][:n]\n",
    "ttr = Y[I][:n]\n",
    "## Testing sets\n",
    "xte = X[I][n:]\n",
    "tte = Y[I][n:]\n",
    "\n",
    "# Multilayer Perceptron\n",
    "model = Sequential()    # Feedforward\n",
    "model.add(Dense(2, input_dim=1))\n",
    "model.add(Activation('sigmoid'))\n",
    "model.add(Dense(3))\n",
    "model.add(Activation('sigmoid'))\n",
    "model.add(Dense(1))\n",
    "#model.compile('adam', 'mse')\n",
    "\n",
    "#save data for keras_learner.py (to see verbose output, as it is not possible on jupyter due to the lock bug)\n",
    "ku.to_learn(\"cos_model\", xtr, ttr, model, \"adam\", \"mse\")\n",
    "#cPickle.dump((\"cos_model\", xtr, ttr, model.to_json(), \"adam\", \"mse\"), open(\"./Learning/tmp/cur_learning_model.pkl\", \"w\"))\n",
    "print \"done\""
   ]
  },
  {
   "cell_type": "code",
   "execution_count": 73,
   "metadata": {},
   "outputs": [
    {
     "name": "stdout",
     "output_type": "stream",
     "text": [
      "['loss', 'val_loss']\n45\n"
     ]
    }
   ],
   "source": [
    "from Learning.keras_util import  get_learnt\n",
    "hist, model = get_learnt()\n",
    "print hist.history.keys()\n",
    "print len(hist.history[\"val_loss\"])"
   ]
  },
  {
   "cell_type": "code",
   "execution_count": 45,
   "metadata": {},
   "outputs": [
    {
     "data": {
      "image/png": "[encoded data removed]",
      "text/plain": [
       "<matplotlib.figure.Figure at 0xc849518>"
      ]
     },
     "metadata": {},
     "output_type": "display_data"
    },
    {
     "name": "stdout",
     "output_type": "stream",
     "text": [
      "('error:', 0.34575890849872287)\n"
     ]
    }
   ],
   "source": [
    "val_los = hist.history[\"val_loss\"]\n",
    "fig = plt.plot(range(1, len(val_los) + 1), val_los, 'r.-')\n",
    "plt.xlabel(\"Epoches\")\n",
    "plt.ylabel(\"Validation Error\")\n",
    "plt.show()\n",
    "\n",
    "pred = model.predict(xte)\n",
    "print(\"error:\", mean_squared_error(tte, pred))"
   ]
  },
  {
   "cell_type": "code",
   "execution_count": 24,
   "metadata": {},
   "outputs": [
    {
     "name": "stdout",
     "output_type": "stream",
     "text": [
      "[array([[-1.39355385, -0.79063207]], dtype=float32), array([ 0.96878815,  1.86432481], dtype=float32), array([[-0.61187458,  1.30413711, -0.30249473],\n       [ 1.65686154, -0.53619814,  1.35597134]], dtype=float32), array([ 0.19360791,  0.47815716,  0.39630628], dtype=float32), array([[ 1.86216724],\n       [-1.7123214 ],\n       [ 1.0321703 ]], dtype=float32), array([ 0.14452493], dtype=float32)]\n6\n[[-0.61187458  1.30413711 -0.30249473]\n [ 1.65686154 -0.53619814  1.35597134]]\n(2L, 3L)\n(3L,)\n"
     ]
    }
   ],
   "source": [
    "print model.get_weights()\n",
    "print len(model.get_weights())\n",
    "print model.get_weights()[2]\n",
    "print model.get_weights()[2].shape\n",
    "print model.get_weights()[3].shape\n",
    "# so layers must works as np.dot(input * weights) + bias, first weights, bias"
   ]
  },
  {
   "cell_type": "code",
   "execution_count": 30,
   "metadata": {},
   "outputs": [
    {
     "name": "stdout",
     "output_type": "stream",
     "text": [
      "['loss', 'val_loss']\n"
     ]
    }
   ],
   "source": [
    "print hist.history.keys()"
   ]
  },
  {
   "cell_type": "code",
   "execution_count": 33,
   "metadata": {},
   "outputs": [
    {
     "name": "stdout",
     "output_type": "stream",
     "text": [
      "250\n"
     ]
    }
   ],
   "source": [
    "print len(hist.history[\"val_loss\"])"
   ]
  },
  {
   "cell_type": "code",
   "execution_count": 55,
   "metadata": {},
   "outputs": [],
   "source": [
    "from Learning.keras_util import keras2unity"
   ]
  },
  {
   "cell_type": "code",
   "execution_count": 61,
   "metadata": {},
   "outputs": [
    {
     "data": {
      "text/plain": [
       "'{\"Layers\": {\"$type\": \"System.Collections.Generic.List`1[[ASKI.Learning.ILayer, Assembly-CSharp]], mscorlib\", \"$values\": [{\"$type\": \"ASKI.Learning.LinearLayer, Assembly-CSharp\", \"Bias\": {\"$type\": \"System.Double[], mscorlib\", \"$values\": [0.6699483394622803, 1.4722517728805542]}, \"Weights\": {\"$type\": \"System.Double[,], mscorlib\", \"$values\": [[1.9244219064712524, -0.8444886803627014]]}}, {\"$type\": \"ASKI.Learning.SigmoidLayer, Assembly-CSharp\"}, {\"$type\": \"ASKI.Learning.LinearLayer, Assembly-CSharp\", \"Bias\": {\"$type\": \"System.Double[], mscorlib\", \"$values\": [0.22568027675151825, 0.2500441372394562, 0.10928301513195038]}, \"Weights\": {\"$type\": \"System.Double[,], mscorlib\", \"$values\": [[0.18517901003360748, -0.49328500032424927, -0.18291626870632172], [0.5389741063117981, -2.0706188678741455, 1.5437580347061157]]}}, {\"$type\": \"ASKI.Learning.SigmoidLayer, Assembly-CSharp\"}, {\"$type\": \"ASKI.Learning.LinearLayer, Assembly-CSharp\", \"Bias\": {\"$type\": \"System.Double[], mscorlib\", \"$values\": [0.23471441864967346]}, \"Weights\": {\"$type\": \"System.Double[,], mscorlib\", \"$values\": [[1.2989035844802856], [-1.0153393745422363], [0.4389383792877197]]}}]}, \"$type\": \"ASKI.Learning.NeuralNet, Assembly-CSharp\"}'"
      ]
     },
     "execution_count": 61,
     "metadata": {},
     "output_type": "execute_result"
    }
   ],
   "source": [
    "keras2unity(model.to_json(), model.get_weights())"
   ]
  },
  {
   "cell_type": "code",
   "execution_count": 60,
   "metadata": {},
   "outputs": [
    {
     "name": "stdout",
     "output_type": "stream",
     "text": [
      "[[ 1.31893528]]\n"
     ]
    }
   ],
   "source": [
    "print model.predict(np.array([0]))"
   ]
  },
  {
   "cell_type": "code",
   "execution_count": null,
   "metadata": {},
   "outputs": [],
   "source": [
    ""
   ]
  }
 ],
 "metadata": {
  "kernelspec": {
   "display_name": "Python 2",
   "language": "python",
   "name": "python2"
  },
  "language_info": {
   "codemirror_mode": {
    "name": "ipython",
    "version": 2.0
   },
   "file_extension": ".py",
   "mimetype": "text/x-python",
   "name": "python",
   "nbconvert_exporter": "python",
   "pygments_lexer": "ipython2",
   "version": "2.7.6"
  }
 },
 "nbformat": 4,
 "nbformat_minor": 0
}