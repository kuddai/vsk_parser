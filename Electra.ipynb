{
 "cells": [
  {
   "cell_type": "markdown",
   "metadata": {},
   "source": [
    "Notebook to study PCA on our animations"
   ]
  },
  {
   "cell_type": "code",
   "execution_count": 65,
   "metadata": {
    "collapsed": false
   },
   "outputs": [
    {
     "name": "stdout",
     "output_type": "stream",
     "text": [
      "The autoreload extension is already loaded. To reload it, use:\n",
      "  %reload_ext autoreload\n"
     ]
    }
   ],
   "source": [
    "%load_ext autoreload\n",
    "%autoreload 2\n",
    "%reload_ext autoreload"
   ]
  },
  {
   "cell_type": "code",
   "execution_count": 3,
   "metadata": {
    "collapsed": false
   },
   "outputs": [
    {
     "name": "stdout",
     "output_type": "stream",
     "text": [
      "hi\n"
     ]
    }
   ],
   "source": [
    "%pylab inline\n",
    "\n",
    "from matplotlib import pyplot as plt\n",
    "from matplotlib import animation\n",
    "#plt.rcParams['animation.ffmpeg_path'] = 'C:\\\\ffmpeg\\\\bin\\\\'\n",
    "\n",
    "VIDEO_TAG = \"\"\"<video controls>\n",
    " <source src=\"data:video/x-m4v;base64,{0}\" type=\"video/mp4\">\n",
    " Your browser does not support the video tag.\n",
    "</video>\"\"\"\n",
    "\n",
    "def anim_to_html(anim, fps=120):\n",
    "    if not hasattr(anim, '_encoded_video'):\n",
    "        anim.save(\"test.mp4\", fps=fps, extra_args=['-vcodec', 'libx264', '-pix_fmt', 'yuv420p'])\n",
    "\n",
    "        video = open(\"test.mp4\",\"rb\").read()\n",
    "\n",
    "    anim._encoded_video = video.encode(\"base64\")\n",
    "    return VIDEO_TAG.format(anim._encoded_video)\n",
    "\n",
    "from IPython.display import HTML\n",
    "\n",
    "def display_animation(anim, fps=120):\n",
    "    plt.close(anim._fig)\n",
    "    return HTML(anim_to_html(anim, fps=fps))"
   ]
  },
  {
   "cell_type": "code",
   "execution_count": 81,
   "metadata": {
    "collapsed": true
   },
   "outputs": [],
   "source": [
    "import vicon_anim_parser.scene_drawer as sd\n",
    "import Learning.data_cleaning as dc\n",
    "import numpy as np"
   ]
  },
  {
   "cell_type": "code",
   "execution_count": null,
   "metadata": {
    "collapsed": true
   },
   "outputs": [],
   "source": [
    "import matplotlib.pylab as pylab\n",
    "pylab.rcParams['figure.figsize'] = 8, 6"
   ]
  },
  {
   "cell_type": "code",
   "execution_count": 6,
   "metadata": {
    "collapsed": true
   },
   "outputs": [],
   "source": [
    "segment_id2parent_id, header, anim_data = dc.get_segment_anim_data(\"Ruslan.vsk\", \"./SwordMovements/sword_movements_01.csv\")"
   ]
  },
  {
   "cell_type": "code",
   "execution_count": 9,
   "metadata": {
    "collapsed": false
   },
   "outputs": [
    {
     "name": "stdout",
     "output_type": "stream",
     "text": [
      "(2650L, 87L)\n",
      "(630L, 87L)\n",
      "(1300L, 87L)\n",
      "(4580L, 87L)\n"
     ]
    }
   ],
   "source": [
    "def gather_data_suitable_for_PCA(anim_data):\n",
    "    seq1 = dc.convert_segment_anim_for_learning(anim_data[540:3190])\n",
    "    seq2 = dc.convert_segment_anim_for_learning(anim_data[4170:4800])\n",
    "    seq3 = dc.convert_segment_anim_for_learning(anim_data[5900:7200])\n",
    "    \n",
    "    print seq1.shape\n",
    "    print seq2.shape\n",
    "    print seq3.shape\n",
    "    \n",
    "    return np.concatenate((seq1, seq2, seq3), axis=0)\n",
    "\n",
    "input_PCA = gather_data_suitable_for_PCA(anim_data)\n",
    "print input_PCA.shape"
   ]
  },
  {
   "cell_type": "code",
   "execution_count": 46,
   "metadata": {
    "collapsed": false
   },
   "outputs": [
    {
     "name": "stdout",
     "output_type": "stream",
     "text": [
      "[[ 0  1  2  3]\n",
      " [ 4  5  6  7]\n",
      " [ 8  9 10 11]\n",
      " [12 13 14 15]]\n",
      "[ 6.  7.  8.  9.]\n",
      "(4L,)\n",
      "[[ 6.  7.  8.  9.]\n",
      " [ 6.  7.  8.  9.]\n",
      " [ 6.  7.  8.  9.]\n",
      " [ 6.  7.  8.  9.]]\n",
      "[[-6. -6. -6. -6.]\n",
      " [-2. -2. -2. -2.]\n",
      " [ 2.  2.  2.  2.]\n",
      " [ 6.  6.  6.  6.]]\n",
      "[[ 80.  80.  80.  80.]\n",
      " [ 80.  80.  80.  80.]\n",
      " [ 80.  80.  80.  80.]\n",
      " [ 80.  80.  80.  80.]]\n",
      "D:\n",
      "[  3.20000000e+02   6.66133815e-15   5.72643226e-46   1.84848770e-78]\n",
      "\n",
      "[-0.5 -0.5 -0.5 -0.5]\n",
      "[ 0.8660254  -0.28867513 -0.28867513 -0.28867513]\n",
      "[ 0.          0.81649658 -0.40824829 -0.40824829]\n",
      "[  0.00000000e+00  -4.42903565e-17  -7.07106781e-01   7.07106781e-01]\n",
      "\n",
      "[[ -3.55271368e-15   1.00000000e+00   2.00000000e+00   3.00000000e+00]\n",
      " [  4.00000000e+00   5.00000000e+00   6.00000000e+00   7.00000000e+00]\n",
      " [  8.00000000e+00   9.00000000e+00   1.00000000e+01   1.10000000e+01]\n",
      " [  1.20000000e+01   1.30000000e+01   1.40000000e+01   1.50000000e+01]]\n",
      "[[ -5.00000000e-01   8.66025404e-01   0.00000000e+00   0.00000000e+00]\n",
      " [ -5.00000000e-01  -2.88675135e-01   8.16496581e-01  -4.42903565e-17]\n",
      " [ -5.00000000e-01  -2.88675135e-01  -4.08248290e-01  -7.07106781e-01]\n",
      " [ -5.00000000e-01  -2.88675135e-01  -4.08248290e-01   7.07106781e-01]]\n"
     ]
    }
   ],
   "source": [
    "# SVD decompositon exmaple (PCA)\n",
    "X = np.arange(16).reshape(4, 4)\n",
    "print X\n",
    "mean_X = np.mean(X, axis=0)\n",
    "print mean_X\n",
    "print mean_X.shape\n",
    "mean_X_box = np.dot(np.ones((4, 1)), mean_X.reshape(1, 4))\n",
    "print mean_X_box\n",
    "centered_X = X - mean_X_box\n",
    "print centered_X\n",
    "scatter = np.dot(centered_X.T, centered_X)\n",
    "print scatter\n",
    "U, D, Vt = np.linalg.svd(scatter)\n",
    "print \"D:\"\n",
    "print D\n",
    "print\n",
    "print Vt[0, :]\n",
    "print Vt[1, :]\n",
    "print Vt[2, :]\n",
    "print Vt[3, :]\n",
    "print \n",
    "PCA_number = 1\n",
    "decoded = np.dot(np.dot(centered_X, Vt.T[:, 0:PCA_number]), Vt[0:PCA_number, :]) + mean_X_box\n",
    "print decoded\n",
    "print Vt.T[:, 0:4]"
   ]
  },
  {
   "cell_type": "code",
   "execution_count": 122,
   "metadata": {
    "collapsed": true
   },
   "outputs": [],
   "source": [
    "def convert_to_box(vector, n, d):\n",
    "    return np.dot(np.ones((n, 1)), vector.reshape(1, d))\n",
    "\n",
    "def center_data(X, mean_X = None):\n",
    "    n, d = X.shape\n",
    "    if mean_X is None:\n",
    "        mean_X = np.mean(X, axis=0)\n",
    "    mean_X_box = convert_to_box(mean_X, n, d)\n",
    "    centered_X = X - mean_X_box   \n",
    "    return centered_X\n",
    "\n",
    "def perform_decomposition(X):\n",
    "    #data matrix of dimensions n x d\n",
    "    #n - number of learning instances\n",
    "    #d - dimensionality of data point\n",
    "    n, d = X.shape\n",
    "    mean_X = np.mean(X, axis=0)\n",
    "    centered_X = center_data(X, mean_X)\n",
    "    scatter = np.dot(centered_X.T, centered_X)\n",
    "    U, D, Vt = np.linalg.svd(scatter)\n",
    "    return mean_X, D, Vt.T\n",
    "\n",
    "def show_D_plot(D):\n",
    "    sum_D = sum(D)\n",
    "    xx = range(1, len(D) + 1)\n",
    "    fx = [sum(D[:x])/sum_D for x in xx]\n",
    "    dc.plot_styled(xx, fx, label_x=\"number of PCA\", label_fx=\"variance covered\")\n",
    "    \n",
    "def calc_PCA_number(D, variance_preserved=0.97):\n",
    "    sum_D = sum(D)\n",
    "    xx = range(1, len(D) + 1)\n",
    "    for PCA_number in xx:\n",
    "        variance_covered = sum(D[:PCA_number])/sum_D\n",
    "        if variance_covered > variance_preserved:\n",
    "            return PCA_number\n",
    "    return len(D)\n",
    "\n",
    "def project_data(X, V, mean_X=None):\n",
    "    \"\"\"\n",
    "    project data in the matrix form X onto\n",
    "    V - the column based matrix of PCA\n",
    "    \"\"\"\n",
    "    centered_X = center_data(X, mean_X)\n",
    "    return np.dot(centered_X, V)\n",
    "\n",
    "def unproject_data(projected_X, V, mean_X):\n",
    "    \"\"\"\n",
    "    V - is the column based matrix of PCA\n",
    "    returns data in the matrix form\n",
    "    \"\"\"\n",
    "    n = projected_X.shape[0]\n",
    "    d = mean_X.shape[0]\n",
    "    mean_X_box = convert_to_box(mean_X, n, d)\n",
    "    return np.dot(projected_X, V.T) + mean_X_box\n",
    "\n",
    "def unproject_single(projected_pose, V, mean_X):\n",
    "    assert len(projected_pose.shape) == 1, \"input projected_pose has more then 1 dimension %s\" % projected_pose.shape\n",
    "    d = projected_pose.shape[0]\n",
    "    unproject_pose = unproject_data(projected_pose.reshape(1, d), V, mean_X)\n",
    "    #convert into vector\n",
    "    return unproject_pose.reshape(unproject_pose.shape[1])"
   ]
  },
  {
   "cell_type": "code",
   "execution_count": 93,
   "metadata": {
    "collapsed": true
   },
   "outputs": [],
   "source": [
    "mean_pose, pose_D, pose_V = perform_decomposition(input_PCA)"
   ]
  },
  {
   "cell_type": "code",
   "execution_count": 153,
   "metadata": {
    "collapsed": true
   },
   "outputs": [],
   "source": [
    "show_D_plot(pose_D)"
   ]
  },
  {
   "cell_type": "code",
   "execution_count": 94,
   "metadata": {
    "collapsed": false
   },
   "outputs": [
    {
     "name": "stdout",
     "output_type": "stream",
     "text": [
      "87\n"
     ]
    }
   ],
   "source": [
    "print len(mean_pose)"
   ]
  },
  {
   "cell_type": "code",
   "execution_count": 96,
   "metadata": {
    "collapsed": true
   },
   "outputs": [],
   "source": [
    "segments_mean_pose = dc.convert_pose_vector_to_segments(mean_pose)\n",
    "sd.SegmentsDrawer.show_pose(segments_mean_pose, segment_id2parent_id, scene_length=800)"
   ]
  },
  {
   "cell_type": "code",
   "execution_count": 97,
   "metadata": {
    "collapsed": false
   },
   "outputs": [
    {
     "name": "stdout",
     "output_type": "stream",
     "text": [
      "horizontal animation required number of PCA to cover 95%: 3\n"
     ]
    }
   ],
   "source": [
    "num_PCA_95 = calc_PCA_number(pose_D, 0.95)\n",
    "print \"horizontal animation required number of PCA to cover 95%:\", num_PCA_95"
   ]
  },
  {
   "cell_type": "code",
   "execution_count": 106,
   "metadata": {
    "collapsed": true
   },
   "outputs": [],
   "source": [
    "PCA_95 = pose_V[:, :num_PCA_95]"
   ]
  },
  {
   "cell_type": "code",
   "execution_count": 107,
   "metadata": {
    "collapsed": false
   },
   "outputs": [
    {
     "name": "stdout",
     "output_type": "stream",
     "text": [
      "(4580L, 3L)\n"
     ]
    }
   ],
   "source": [
    "projected_anim_data = project_data(input_PCA, PCA_95, mean_pose)\n",
    "print projected_anim_data.shape"
   ]
  },
  {
   "cell_type": "code",
   "execution_count": 135,
   "metadata": {
    "collapsed": false
   },
   "outputs": [
    {
     "name": "stdout",
     "output_type": "stream",
     "text": [
      "[ 958.97583646  511.06156705  242.13679637]\n",
      "[ -4.54191520e-04   3.63112021e-05   8.80066606e-04]\n"
     ]
    }
   ],
   "source": [
    "projected_std = np.std(projected_anim_data, axis=0)\n",
    "projected_mean = np.mean(projected_anim_data, axis=0)\n",
    "print projected_std\n",
    "print projected_mean"
   ]
  },
  {
   "cell_type": "code",
   "execution_count": 152,
   "metadata": {
    "collapsed": true
   },
   "outputs": [],
   "source": [
    "pose_0 = unproject_single(np.array([958.97583646, -582.14850442, 0]), PCA, mean_pose)\n",
    "sd.SegmentsDrawer.show_pose(dc.convert_pose_vector_to_segments(pose_0), segment_id2parent_id, scene_length=800)"
   ]
  },
  {
   "cell_type": "code",
   "execution_count": 136,
   "metadata": {
    "collapsed": false
   },
   "outputs": [
    {
     "name": "stdout",
     "output_type": "stream",
     "text": [
      "1582.84292411 2378\n"
     ]
    }
   ],
   "source": [
    "print np.max(projected_anim_data[:, 0]), np.argmax(projected_anim_data[:, 0])"
   ]
  },
  {
   "cell_type": "code",
   "execution_count": 138,
   "metadata": {
    "collapsed": false
   },
   "outputs": [
    {
     "name": "stdout",
     "output_type": "stream",
     "text": [
      "[ 1582.84292411  -582.14850442   325.54551949]\n"
     ]
    }
   ],
   "source": [
    "print projected_anim_data[2378]"
   ]
  },
  {
   "cell_type": "code",
   "execution_count": 147,
   "metadata": {
    "collapsed": true
   },
   "outputs": [],
   "source": [
    "pose_1 = unproject_single(projected_anim_data[2378], PCA, mean_pose)\n",
    "sd.SegmentsDrawer.show_pose(dc.convert_pose_vector_to_segments(pose_1), segment_id2parent_id, scene_length=800)"
   ]
  },
  {
   "cell_type": "code",
   "execution_count": null,
   "metadata": {
    "collapsed": true
   },
   "outputs": [],
   "source": [
    ""
   ]
  }
 ],
 "metadata": {
  "kernelspec": {
   "display_name": "Python 2",
   "language": "python",
   "name": "python2"
  },
  "language_info": {
   "codemirror_mode": {
    "name": "ipython",
    "version": 2.0
   },
   "file_extension": ".py",
   "mimetype": "text/x-python",
   "name": "python",
   "nbconvert_exporter": "python",
   "pygments_lexer": "ipython2",
   "version": "2.7.11"
  }
 },
 "nbformat": 4,
 "nbformat_minor": 0
}